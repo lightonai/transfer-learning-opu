{
 "cells": [
  {
   "cell_type": "code",
   "execution_count": 1,
   "metadata": {},
   "outputs": [],
   "source": [
    "import pandas as pd\n",
    "import numpy as np\n",
    "import glob \n",
    "import os\n",
    "from IPython.display import display\n",
    "\n",
    "import matplotlib.pyplot as plt\n",
    "import matplotlib as mpl\n",
    "from matplotlib.patches import Circle, Ellipse"
   ]
  },
  {
   "cell_type": "code",
   "execution_count": 49,
   "metadata": {},
   "outputs": [],
   "source": [
    "def load_dataframes(path, acc_column, sort_col_name, ascending=True):\n",
    "    \"\"\"\n",
    "    \n",
    "    Parameters\n",
    "    ----------\n",
    "    \n",
    "    path: string,\n",
    "        path to the dataframes.\n",
    "    acc_column: int,\n",
    "        column containing the test accuracy of the classifier.\n",
    "    sort_col_name: string:\n",
    "        name of the column along which to sort the dataframe entries. (Usually is the 'RP' number.)\n",
    "    ascending: boolean,\n",
    "        If True, sort the dataframe in ascending order. Defaults to True.\n",
    "    Returns\n",
    "    -------\n",
    "    \n",
    "    dataframes: list of DataFrames,\n",
    "        list of pandas DataFrames.\n",
    "    final_data: list,\n",
    "        contains the data on the run with the highest accuracy.\n",
    "    \"\"\"\n",
    "    \n",
    "    allFiles = glob.glob(path + \"/*.csv\")\n",
    "    dataframes = []\n",
    "    \n",
    "    for file in allFiles:\n",
    "        df = pd.read_csv(file, sep='\\t')\n",
    "        dataframes.append(df)\n",
    "    \n",
    "    final_data = []\n",
    "\n",
    "    for dataframe in dataframes:\n",
    "        \n",
    "        best_run_idx = dataframe[acc_column].idxmax()\n",
    "        best_run = pd.DataFrame([dataframe.iloc[best_run_idx]])\n",
    "        final_data.append(best_run.values)\n",
    "\n",
    "    final_data = np.concatenate(final_data)\n",
    "    best_runs = pd.DataFrame(final_data, columns=list(dataframes[0].columns.values)).sort_values(by=[sort_col_name], \n",
    "                                                                                                 ascending=ascending)\n",
    "    \n",
    "    return best_runs.reset_index(drop=True), dataframes, final_data"
   ]
  },
  {
   "cell_type": "code",
   "execution_count": 50,
   "metadata": {},
   "outputs": [],
   "source": [
    "model_name, model_options = 'resnet18', 'noavgpool'\n",
    "OPU = \"Saturn\"\n",
    "\n",
    "new_path = \"/home/luca/Desktop/TL/Blogpost/TL_blogpost/data/naive\"\n",
    "\n",
    "base_save_path = '/home/luca/Desktop/TL/report_stage2_inference/img/naive/'\n",
    "image_path = '/home/luca/stage2_data/naive_quantization/images/'\n",
    "\n",
    "img_format='svg'"
   ]
  },
  {
   "cell_type": "code",
   "execution_count": 51,
   "metadata": {},
   "outputs": [
    {
     "name": "stdout",
     "output_type": "stream",
     "text": [
      "/home/luca/Desktop/TL/Blogpost/TL_blogpost/data/naive/resnet18_Saturn_brutal/OPU_10000_noavgpool_float32/train\n"
     ]
    }
   ],
   "source": [
    "n_components = str(10000)\n",
    "dtype = \"float32\"\n",
    "\n",
    "path_S = os.path.join(new_path, \"{}_{}_brutal\".format(model_name, OPU))\n",
    "\n",
    "\n",
    "OPU_path = os.path.join(path_S, \"OPU_{}_{}_{}\".format(n_components, model_options, dtype))\n",
    "print(os.path.join(OPU_path, \"train\"))\n",
    "\n",
    "train, _, _ = load_dataframes(os.path.join(OPU_path, \"train\"), \"acc_test\", 'model size [MB]', ascending=False)\n",
    "inference, _, _ = load_dataframes(os.path.join(OPU_path, \"inference\"), \"inference time\", 'model size [MB]', ascending=False)\n",
    "backprop, _, _ = load_dataframes(os.path.join(path_S, \"backprop\"), \"test accuracy\", 'model size-tot', ascending=False)\n"
   ]
  },
  {
   "cell_type": "code",
   "execution_count": 60,
   "metadata": {},
   "outputs": [
    {
     "data": {
      "image/png": "[encoded data removed]",
      "text/plain": [
       "<Figure size 432x288 with 1 Axes>"
      ]
     },
     "metadata": {
      "needs_background": "light"
     },
     "output_type": "display_data"
    }
   ],
   "source": [
    "plt.plot(train[\"acc_test\"], label=\"TL\")\n",
    "plt.plot(backprop[\"test accuracy\"], label=\"backprop\")\n",
    "plt.legend()\n",
    "plt.grid()\n",
    "plt.show()"
   ]
  },
  {
   "cell_type": "code",
   "execution_count": null,
   "metadata": {},
   "outputs": [],
   "source": []
  }
 ],
 "metadata": {
  "kernelspec": {
   "display_name": "Python3 (opu-venv)",
   "language": "python",
   "name": "opu-venv"
  },
  "language_info": {
   "codemirror_mode": {
    "name": "ipython",
    "version": 3
   },
   "file_extension": ".py",
   "mimetype": "text/x-python",
   "name": "python",
   "nbconvert_exporter": "python",
   "pygments_lexer": "ipython3",
   "version": "3.6.8"
  }
 },
 "nbformat": 4,
 "nbformat_minor": 2
}
