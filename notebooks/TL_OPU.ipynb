{
 "cells": [
  {
   "cell_type": "code",
   "execution_count": 1,
   "metadata": {},
   "outputs": [],
   "source": [
    "import os\n",
    "from time import time\n",
    "\n",
    "import numpy as np\n",
    "\n",
    "from sklearn.linear_model import RidgeClassifier\n",
    "\n",
    "import torchvision\n",
    "import torchvision.transforms as transforms\n",
    "from torchvision.models import resnet50\n",
    "from torch.utils.data import DataLoader\n",
    "\n",
    "from model_loading_utils import pick_model\n",
    "from features import fast_conv_features, get_random_features, decoding, dummy_predict_GPU\n",
    "from dataset import CatsAndDogs"
   ]
  },
  {
   "cell_type": "code",
   "execution_count": 2,
   "metadata": {},
   "outputs": [],
   "source": [
    "dataset_path = \"/home/luca/datasets/cats-and-dogs-breeds-classification-oxford-dataset\"\n",
    "\n",
    "images_path = os.path.join(dataset_path, \"images\", \"images\")\n",
    "annotation_path = os.path.join(dataset_path, \"annotations\", \"annotations\")"
   ]
  },
  {
   "cell_type": "code",
   "execution_count": 3,
   "metadata": {},
   "outputs": [],
   "source": [
    "batch_size = 32 \n",
    "num_workers = 12\n",
    "\n",
    "train_transform = transforms.Compose([transforms.Resize((224, 224)), transforms.ToTensor()])\n",
    "test_transform = transforms.Compose([transforms.Resize((224, 224)), transforms.ToTensor()])\n",
    "\n",
    "train_dataset = CatsAndDogs(dataset_path, mode=\"trainval\", transform=train_transform)\n",
    "test_dataset = CatsAndDogs(dataset_path, mode=\"test\", transform=test_transform)\n",
    "\n",
    "train_loader = DataLoader(train_dataset, batch_size=batch_size, shuffle=True, num_workers=num_workers)\n",
    "test_loader = DataLoader(test_dataset, batch_size=batch_size, shuffle=True, num_workers=num_workers)"
   ]
  },
  {
   "cell_type": "code",
   "execution_count": 4,
   "metadata": {},
   "outputs": [
    {
     "name": "stdout",
     "output_type": "stream",
     "text": [
      "resnet50 model loaded successfully.\n"
     ]
    }
   ],
   "source": [
    "model_name, model_options = \"resnet50\", \"noavgpool\"\n",
    "device = \"cuda:0\"\n",
    "encode_type = \"positive\"\n",
    "model_dtype = \"float16\"\n",
    "\n",
    "model, output_size = pick_model(model_name=model_name, model_options=model_options, device=device, dtype=model_dtype)"
   ]
  },
  {
   "cell_type": "code",
   "execution_count": 5,
   "metadata": {},
   "outputs": [],
   "source": [
    "enc_train_features, train_labels, train_conv_time, train_encode_time = fast_conv_features(train_loader, model,\n",
    "                                                                                          output_size,\n",
    "                                                                                          device=device,\n",
    "                                                                                          encode_type=encode_type,\n",
    "                                                                                          dtype=model_dtype)\n",
    "\n",
    "enc_test_features, test_labels, test_conv_time, test_encode_time = fast_conv_features(test_loader, model,\n",
    "                                                                                      output_size, device=device,\n",
    "                                                                                      encode_type=encode_type,\n",
    "                                                                                      dtype=model_dtype)"
   ]
  },
  {
   "cell_type": "code",
   "execution_count": 6,
   "metadata": {},
   "outputs": [],
   "source": [
    "n_components = 0\n",
    "train_proj_time, train_random_features = get_random_features(enc_train_features, n_components)\n",
    "test_proj_time, test_random_features = get_random_features(enc_test_features, n_components)"
   ]
  },
  {
   "cell_type": "code",
   "execution_count": 7,
   "metadata": {},
   "outputs": [],
   "source": [
    "train_decode_time, dec_train_random_features = decoding(train_random_features, decode_type=None)\n",
    "test_decode_time, dec_test_random_features = decoding(test_random_features, decode_type=None)"
   ]
  },
  {
   "cell_type": "code",
   "execution_count": null,
   "metadata": {},
   "outputs": [
    {
     "name": "stdout",
     "output_type": "stream",
     "text": [
      "alpha = 1.00e+02\tTrain acc = 100.00\tTest acc = 85.06\n",
      "alpha = 5.00e+02\tTrain acc = 100.00\tTest acc = 85.01\n",
      "alpha = 9.00e+02\tTrain acc = 100.00\tTest acc = 85.04\n",
      "alpha = 1.00e+03\tTrain acc = 100.00\tTest acc = 85.04\n",
      "alpha = 5.00e+03\tTrain acc = 100.00\tTest acc = 85.31\n",
      "alpha = 9.00e+03\tTrain acc = 100.00\tTest acc = 85.20\n",
      "alpha = 1.00e+04\tTrain acc = 100.00\tTest acc = 85.23\n",
      "alpha = 5.00e+04\tTrain acc = 99.89\tTest acc = 84.57\n",
      "alpha = 9.00e+04\tTrain acc = 99.54\tTest acc = 83.54\n",
      "alpha = 1.00e+05\tTrain acc = 99.48\tTest acc = 83.46\n"
     ]
    }
   ],
   "source": [
    "alpha_exp_min, alpha_exp_max, alpha_space = 2, 5, 3\n",
    "\n",
    "alpha_mant = np.linspace(1, 9, alpha_space)\n",
    "alphas = np.concatenate([alpha_mant * 10 ** i for i in range(alpha_exp_min, alpha_exp_max + 1)])\n",
    "\n",
    "for alpha in alphas:\n",
    "    clf = RidgeClassifier(alpha=alpha)\n",
    "    since = time()\n",
    "    clf.fit(dec_train_random_features, train_labels)\n",
    "    fit_time = time() - since\n",
    "    \n",
    "    \n",
    "    train_accuracy = clf.score(dec_train_random_features, train_labels) * 100\n",
    "    test_accuracy = clf.score(dec_test_random_features, test_labels) * 100\n",
    "    \n",
    "    print(\"alpha = {0:.2e}\\tTrain acc = {1:2.2f}\\tTest acc = {2:2.2f}\".format(alpha, train_accuracy, test_accuracy))"
   ]
  },
  {
   "cell_type": "code",
   "execution_count": null,
   "metadata": {},
   "outputs": [],
   "source": []
  }
 ],
 "metadata": {
  "kernelspec": {
   "display_name": "Python3 (opu-venv)",
   "language": "python",
   "name": "opu-venv"
  },
  "language_info": {
   "codemirror_mode": {
    "name": "ipython",
    "version": 3
   },
   "file_extension": ".py",
   "mimetype": "text/x-python",
   "name": "python",
   "nbconvert_exporter": "python",
   "pygments_lexer": "ipython3",
   "version": "3.6.8"
  }
 },
 "nbformat": 4,
 "nbformat_minor": 2
}
