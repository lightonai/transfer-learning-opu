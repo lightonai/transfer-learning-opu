{
 "cells": [
  {
   "cell_type": "code",
   "execution_count": 1,
   "metadata": {},
   "outputs": [],
   "source": [
    "import os\n",
    "from time import time\n",
    "\n",
    "import numpy as np\n",
    "\n",
    "from sklearn.linear_model import RidgeClassifier\n",
    "\n",
    "import torch\n",
    "import torchvision.transforms as transforms\n",
    "from torch.utils.data import DataLoader\n",
    "\n",
    "from tlopu.model_utils import pick_model\n",
    "from tlopu.features import fast_conv_features, decoding, get_random_features\n",
    "from tlopu.dataset import Animals10"
   ]
  },
  {
   "cell_type": "code",
   "execution_count": 2,
   "metadata": {},
   "outputs": [],
   "source": [
    "def get_mean_std(train_loader):\n",
    "    mean, std = torch.zeros(3), torch.zeros(3)\n",
    "\n",
    "\n",
    "    for batch_id, (image, target) in enumerate(train_loader):\n",
    "        mean += torch.mean(image, dim=(0,2,3))\n",
    "        std += torch.std(image, dim=(0,2,3))\n",
    "\n",
    "    mean = mean / len(train_loader)\n",
    "    std = std / len(train_loader)\n",
    "    \n",
    "    return mean, std"
   ]
  },
  {
   "cell_type": "code",
   "execution_count": 3,
   "metadata": {},
   "outputs": [],
   "source": [
    "def get_loaders(dataset_path, batch_size=32, num_workers=12, mean=None, std=None):\n",
    "    \"\"\"\n",
    "    Function to load the train/test loaders.\n",
    "\n",
    "    Parameters\n",
    "    ----------\n",
    "    dataset_path: str, dataset path.\n",
    "\n",
    "    batch_size: int, batch size.\n",
    "    num_workers: int, number of workers.\n",
    "    mean:None or torch.Tensor, mean per channel\n",
    "    std:None or torch.Tensor, std per channel\n",
    "\n",
    "    Returns\n",
    "    -------\n",
    "    train_loader: Pytorch dataloader, dataloader for the train set.\n",
    "    test_loader: Pytorch dataloader, dataloader for the test set.\n",
    "    \"\"\"\n",
    "\n",
    "    transform_list = [transforms.Resize((224, 224)), transforms.ToTensor()]\n",
    "    if mean is not None:\n",
    "        transform_list.append(transforms.Normalize(mean=mean, std=std))\n",
    "    data_transform = transforms.Compose(transform_list)\n",
    "\n",
    "    dataset_path = os.path.join(dataset_path, \"animals10/raw-img/\")\n",
    "\n",
    "    train_dataset = Animals10(dataset_path, test_ratio=20, mode=\"train\", transform=data_transform)\n",
    "    test_dataset = Animals10(dataset_path, test_ratio=20, mode=\"test\", transform=data_transform)\n",
    "\n",
    "    train_loader = DataLoader(train_dataset, batch_size=batch_size, shuffle=True, num_workers=num_workers)\n",
    "    test_loader = DataLoader(test_dataset, batch_size=batch_size, shuffle=True, num_workers=num_workers)\n",
    "\n",
    "    return train_loader, test_loader"
   ]
  },
  {
   "cell_type": "code",
   "execution_count": 4,
   "metadata": {},
   "outputs": [
    {
     "name": "stdout",
     "output_type": "stream",
     "text": [
      "Computing dataset mean...\n"
     ]
    }
   ],
   "source": [
    "batch_size = 32\n",
    "num_workers = 12\n",
    "dataset_path = \"/data/home/luca/datasets/\"\n",
    "\n",
    "train_loader, test_loader = get_loaders(dataset_path, batch_size=batch_size, num_workers=num_workers)\n",
    "print(\"Computing dataset mean...\")\n",
    "mean, std = get_mean_std(train_loader)\n",
    "train_loader, test_loader = get_loaders(dataset_path, batch_size=batch_size, num_workers=num_workers,\n",
    "                                        mean=mean, std=std)"
   ]
  },
  {
   "cell_type": "code",
   "execution_count": 5,
   "metadata": {},
   "outputs": [
    {
     "name": "stdout",
     "output_type": "stream",
     "text": [
      "densenet169 model loaded successfully.\n"
     ]
    }
   ],
   "source": [
    "model_name, model_options = \"densenet169\", \"full\"\n",
    "device = \"cuda:0\"\n",
    "encode_type = \"positive\"\n",
    "model_dtype = \"float32\"\n",
    "\n",
    "model, output_size = pick_model(model_name=model_name, model_options=model_options, device=device, dtype=model_dtype)"
   ]
  },
  {
   "cell_type": "code",
   "execution_count": 6,
   "metadata": {},
   "outputs": [
    {
     "name": "stdout",
     "output_type": "stream",
     "text": [
      "densenet169 - train conv features time = 44.78 s\tencoding = 0.01891 s\tshape = (19363, 81536)\n",
      "densenet169 - test conv features time  = 11.96 s\tencoding = 0.00421 s\tshape = (4846, 81536)\n"
     ]
    }
   ],
   "source": [
    "enc_train_features, train_labels, train_conv_time, train_encode_time = fast_conv_features(train_loader, model,\n",
    "                                                                                          output_size,\n",
    "                                                                                          device=device,\n",
    "                                                                                          encode_type=encode_type,\n",
    "                                                                                          dtype=model_dtype)\n",
    "print(\"{0} - train conv features time = {1:3.2f} s\\tencoding = {2:1.5f} s\\tshape = {3}\"\n",
    "      .format(model_name, train_conv_time, train_encode_time, enc_train_features.shape))\n",
    "\n",
    "enc_test_features, test_labels, test_conv_time, test_encode_time = fast_conv_features(test_loader, model,\n",
    "                                                                                      output_size, device=device,\n",
    "                                                                                      encode_type=encode_type,\n",
    "                                                                                      dtype=model_dtype)\n",
    "print(\"{0} - test conv features time  = {1:3.2f} s\\tencoding = {2:1.5f} s\\tshape = {3}\"\n",
    "      .format(model_name, test_conv_time, test_encode_time, enc_test_features.shape))"
   ]
  },
  {
   "cell_type": "code",
   "execution_count": 7,
   "metadata": {},
   "outputs": [
    {
     "name": "stdout",
     "output_type": "stream",
     "text": [
      "Train projection time = 13.08 s\tTrain decode time = 0.10 s\n",
      "Test projection time = 3.46 s\tTest decode time = 0.02 s\n"
     ]
    }
   ],
   "source": [
    "n_components = enc_train_features.shape[0]//2\n",
    "train_proj_time, train_random_features = get_random_features(enc_train_features, n_components)\n",
    "test_proj_time, test_random_features = get_random_features(enc_test_features, n_components)\n",
    "\n",
    "train_decode_time, dec_train_random_features = decoding(train_random_features, decode_type=None)\n",
    "test_decode_time, dec_test_random_features = decoding(test_random_features, decode_type=None)\n",
    "\n",
    "print(\"Train projection time = {0:3.2f} s\\tTrain decode time = {1:3.2f} s\".format(train_proj_time, train_decode_time))\n",
    "print(\"Test projection time = {0:3.2f} s\\tTest decode time = {1:3.2f} s\".format(test_proj_time, test_decode_time))"
   ]
  },
  {
   "cell_type": "code",
   "execution_count": 8,
   "metadata": {},
   "outputs": [
    {
     "name": "stdout",
     "output_type": "stream",
     "text": [
      "alpha = 1.00e+06\tTrain acc = 99.79\tTest acc = 94.70\n",
      "alpha = 9.00e+06\tTrain acc = 99.01\tTest acc = 95.01\n",
      "alpha = 1.00e+07\tTrain acc = 98.94\tTest acc = 95.07\n",
      "alpha = 9.00e+07\tTrain acc = 96.48\tTest acc = 93.81\n",
      "alpha = 1.00e+08\tTrain acc = 96.25\tTest acc = 93.75\n",
      "alpha = 9.00e+08\tTrain acc = 88.42\tTest acc = 85.82\n"
     ]
    }
   ],
   "source": [
    "alpha_exp_min, alpha_exp_max, alpha_space = 6, 7, 4\n",
    "\n",
    "alpha_mant = np.linspace(1, 9, alpha_space)\n",
    "alphas = np.concatenate([alpha_mant * 10 ** i for i in range(alpha_exp_min, alpha_exp_max + 1)])\n",
    "\n",
    "for alpha in alphas:\n",
    "    clf = RidgeClassifier(alpha=alpha)\n",
    "    since = time()\n",
    "    clf.fit(dec_train_random_features, train_labels)\n",
    "    fit_time = time() - since\n",
    "    \n",
    "    \n",
    "    train_accuracy = clf.score(dec_train_random_features, train_labels) * 100\n",
    "    test_accuracy = clf.score(dec_test_random_features, test_labels) * 100\n",
    "    \n",
    "    print(\"alpha = {0:.2e}\\tTrain acc = {1:2.2f}\\tTest acc = {2:2.2f}\".format(alpha, train_accuracy, test_accuracy))"
   ]
  }
 ],
 "metadata": {
  "kernelspec": {
   "display_name": "Python (blogpost_venv)",
   "language": "python",
   "name": "blogpost_venv"
  },
  "language_info": {
   "codemirror_mode": {
    "name": "ipython",
    "version": 3
   },
   "file_extension": ".py",
   "mimetype": "text/x-python",
   "name": "python",
   "nbconvert_exporter": "python",
   "pygments_lexer": "ipython3",
   "version": "3.5.2"
  },
  "pycharm": {
   "stem_cell": {
    "cell_type": "raw",
    "source": [],
    "metadata": {
     "collapsed": false
    }
   }
  }
 },
 "nbformat": 4,
 "nbformat_minor": 2
}