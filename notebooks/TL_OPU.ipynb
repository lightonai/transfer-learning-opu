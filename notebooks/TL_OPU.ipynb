{
 "cells": [
  {
   "cell_type": "code",
   "execution_count": 9,
   "metadata": {},
   "outputs": [],
   "source": [
    "import os\n",
    "import glob\n",
    "from time import time\n",
    "\n",
    "import numpy as np\n",
    "\n",
    "from sklearn.linear_model import RidgeClassifier\n",
    "\n",
    "import torch\n",
    "import torchvision\n",
    "import torchvision.transforms as transforms\n",
    "from torch.utils.data import DataLoader\n",
    "\n",
    "from torch.utils.data.dataset import Dataset\n",
    "from torchvision.datasets.folder import default_loader\n",
    "\n",
    "from tlopu.model_utils import pick_model, cut_model, get_model_size, get_output_size\n",
    "from tlopu.features import fast_conv_features, decoding, get_random_features, dummy_predict_GPU\n",
    "from tlopu.dataset import CatsAndDogs, CUB_200, Animals10"
   ]
  },
  {
   "cell_type": "code",
   "execution_count": 2,
   "metadata": {},
   "outputs": [],
   "source": [
    "def get_mean_std(train_loader):\n",
    "    mean, std = torch.zeros(3), torch.zeros(3)\n",
    "\n",
    "    for batch_id, (image, target) in enumerate(train_loader):\n",
    "        mean += torch.mean(image, dim=(0,2,3))\n",
    "        std += torch.std(image, dim=(0,2,3))\n",
    "\n",
    "    mean = mean / len(train_loader)\n",
    "    std = std / len(train_loader)\n",
    "    \n",
    "    return mean, std"
   ]
  },
  {
   "cell_type": "code",
   "execution_count": 62,
   "metadata": {},
   "outputs": [],
   "source": [
    "def get_loaders(dataset_name, batch_size=32, num_workers=12, mean=None, std=None):\n",
    "    \n",
    "    transform_list = [transforms.Resize((224, 224)), transforms.ToTensor()]\n",
    "    if mean is not None:\n",
    "        transform_list.append(transforms.Normalize(mean=mean, std=std))\n",
    "    data_transform = transforms.Compose(transform_list)\n",
    "    \n",
    "    if dataset_name == \"cats_dogs\":\n",
    "        dataset_path = \"/data/home/luca/datasets/cats-and-dogs-breeds-classification-oxford-dataset\"\n",
    "        \n",
    "        train_dataset = CatsAndDogs(dataset_path, mode=\"trainval\", transform=data_transform)\n",
    "        test_dataset = CatsAndDogs(dataset_path, mode=\"test\", transform=data_transform)\n",
    "    \n",
    "    elif dataset_name == \"CUB_200\":\n",
    "        dataset_path = \"/data/home/luca/datasets/CUB_200_2011/\"\n",
    "        \n",
    "        train_dataset = CUB_200(dataset_path, mode=\"train\", transform=data_transform)\n",
    "        test_dataset = CUB_200(dataset_path, mode=\"test\", transform=data_transform)\n",
    "    \n",
    "    elif dataset_name == \"animals10\":\n",
    "        path = \"/data/home/luca/datasets/animals10/raw-img/\"\n",
    "        train_dataset = Animals10(path, test_ratio=20, mode=\"train\", transform=data_transform)\n",
    "        test_dataset = Animals10(path, test_ratio=20, mode=\"test\", transform=data_transform)\n",
    "        \n",
    "    train_loader = DataLoader(train_dataset, batch_size=batch_size, shuffle=True, num_workers=num_workers)\n",
    "    test_loader = DataLoader(test_dataset, batch_size=batch_size, shuffle=True, num_workers=num_workers)\n",
    "    \n",
    "    return train_loader, test_loader"
   ]
  },
  {
   "cell_type": "code",
   "execution_count": 63,
   "metadata": {},
   "outputs": [
    {
     "name": "stdout",
     "output_type": "stream",
     "text": [
      "Computing dataset mean...\n"
     ]
    }
   ],
   "source": [
    "train_loader, test_loader = get_loaders(\"animals10\", batch_size=32, num_workers=12)\n",
    "print(\"Computing dataset mean...\")\n",
    "mean, std = get_mean_std(train_loader)\n",
    "train_loader, test_loader = get_loaders(\"animals10\", batch_size=32, num_workers=12, mean=mean, std=std)\n"
   ]
  },
  {
   "cell_type": "code",
   "execution_count": 64,
   "metadata": {},
   "outputs": [
    {
     "name": "stdout",
     "output_type": "stream",
     "text": [
      "resnet18 model loaded successfully.\n"
     ]
    }
   ],
   "source": [
    "model_name, model_options = \"resnet18\", \"noavgpool\"\n",
    "device = \"cuda:0\"\n",
    "encode_type = \"positive\"\n",
    "model_dtype = \"float32\"\n",
    "\n",
    "model, output_size = pick_model(model_name=model_name, model_options=model_options, device=device, dtype=model_dtype)"
   ]
  },
  {
   "cell_type": "code",
   "execution_count": 66,
   "metadata": {},
   "outputs": [
    {
     "name": "stdout",
     "output_type": "stream",
     "text": [
      "resnet18 - train conv features time = 12.40 s\tencoding = 0.00903 s\tshape = (19363, 25088)\n",
      "resnet18 - test conv features time  = 3.91 s\tencoding = 0.00217 s\tshape = (4846, 25088)\n"
     ]
    }
   ],
   "source": [
    "enc_train_features, train_labels, train_conv_time, train_encode_time = fast_conv_features(train_loader, model,\n",
    "                                                                                          output_size,\n",
    "                                                                                          device=device,\n",
    "                                                                                          encode_type=encode_type,\n",
    "                                                                                          dtype=model_dtype)\n",
    "print(\"{0} - train conv features time = {1:3.2f} s\\tencoding = {2:1.5f} s\\tshape = {3}\"\n",
    "      .format(model_name, train_conv_time, train_encode_time, enc_train_features.shape))\n",
    "\n",
    "enc_test_features, test_labels, test_conv_time, test_encode_time = fast_conv_features(test_loader, model,\n",
    "                                                                                      output_size, device=device,\n",
    "                                                                                      encode_type=encode_type,\n",
    "                                                                                      dtype=model_dtype)\n",
    "print(\"{0} - test conv features time  = {1:3.2f} s\\tencoding = {2:1.5f} s\\tshape = {3}\"\n",
    "      .format(model_name, test_conv_time, test_encode_time, enc_test_features.shape))"
   ]
  },
  {
   "cell_type": "code",
   "execution_count": 67,
   "metadata": {},
   "outputs": [],
   "source": [
    "n_components = 0\n",
    "train_proj_time, train_random_features = get_random_features(enc_train_features, n_components)\n",
    "test_proj_time, test_random_features = get_random_features(enc_test_features, n_components)"
   ]
  },
  {
   "cell_type": "code",
   "execution_count": 68,
   "metadata": {},
   "outputs": [],
   "source": [
    "train_decode_time, dec_train_random_features = decoding(train_random_features, decode_type=None)\n",
    "test_decode_time, dec_test_random_features = decoding(test_random_features, decode_type=None)"
   ]
  },
  {
   "cell_type": "code",
   "execution_count": 2,
   "metadata": {},
   "outputs": [
    {
     "data": {
      "text/plain": [
       "25.0"
      ]
     },
     "execution_count": 2,
     "metadata": {},
     "output_type": "execute_result"
    }
   ],
   "source": [
    "15*100/60"
   ]
  },
  {
   "cell_type": "code",
   "execution_count": 69,
   "metadata": {},
   "outputs": [
    {
     "name": "stdout",
     "output_type": "stream",
     "text": [
      "alpha = 1.00e+02\tTrain acc = 100.00\tTest acc = 89.66\n"
     ]
    },
    {
     "ename": "KeyboardInterrupt",
     "evalue": "",
     "output_type": "error",
     "traceback": [
      "\u001b[0;31m---------------------------------------------------------------------------\u001b[0m",
      "\u001b[0;31mKeyboardInterrupt\u001b[0m                         Traceback (most recent call last)",
      "\u001b[0;32m<ipython-input-69-a0f5974cf653>\u001b[0m in \u001b[0;36m<module>\u001b[0;34m\u001b[0m\n\u001b[1;32m      7\u001b[0m     \u001b[0mclf\u001b[0m \u001b[0;34m=\u001b[0m \u001b[0mRidgeClassifier\u001b[0m\u001b[0;34m(\u001b[0m\u001b[0malpha\u001b[0m\u001b[0;34m=\u001b[0m\u001b[0malpha\u001b[0m\u001b[0;34m)\u001b[0m\u001b[0;34m\u001b[0m\u001b[0m\n\u001b[1;32m      8\u001b[0m     \u001b[0msince\u001b[0m \u001b[0;34m=\u001b[0m \u001b[0mtime\u001b[0m\u001b[0;34m(\u001b[0m\u001b[0;34m)\u001b[0m\u001b[0;34m\u001b[0m\u001b[0m\n\u001b[0;32m----> 9\u001b[0;31m     \u001b[0mclf\u001b[0m\u001b[0;34m.\u001b[0m\u001b[0mfit\u001b[0m\u001b[0;34m(\u001b[0m\u001b[0mdec_train_random_features\u001b[0m\u001b[0;34m,\u001b[0m \u001b[0mtrain_labels\u001b[0m\u001b[0;34m)\u001b[0m\u001b[0;34m\u001b[0m\u001b[0m\n\u001b[0m\u001b[1;32m     10\u001b[0m     \u001b[0mfit_time\u001b[0m \u001b[0;34m=\u001b[0m \u001b[0mtime\u001b[0m\u001b[0;34m(\u001b[0m\u001b[0;34m)\u001b[0m \u001b[0;34m-\u001b[0m \u001b[0msince\u001b[0m\u001b[0;34m\u001b[0m\u001b[0m\n\u001b[1;32m     11\u001b[0m \u001b[0;34m\u001b[0m\u001b[0m\n",
      "\u001b[0;32m~/blogpost_venv/lib/python3.5/site-packages/sklearn/linear_model/_ridge.py\u001b[0m in \u001b[0;36mfit\u001b[0;34m(self, X, y, sample_weight)\u001b[0m\n\u001b[1;32m    950\u001b[0m                              compute_sample_weight(self.class_weight, y))\n\u001b[1;32m    951\u001b[0m \u001b[0;34m\u001b[0m\u001b[0m\n\u001b[0;32m--> 952\u001b[0;31m         \u001b[0msuper\u001b[0m\u001b[0;34m(\u001b[0m\u001b[0;34m)\u001b[0m\u001b[0;34m.\u001b[0m\u001b[0mfit\u001b[0m\u001b[0;34m(\u001b[0m\u001b[0mX\u001b[0m\u001b[0;34m,\u001b[0m \u001b[0mY\u001b[0m\u001b[0;34m,\u001b[0m \u001b[0msample_weight\u001b[0m\u001b[0;34m=\u001b[0m\u001b[0msample_weight\u001b[0m\u001b[0;34m)\u001b[0m\u001b[0;34m\u001b[0m\u001b[0m\n\u001b[0m\u001b[1;32m    953\u001b[0m         \u001b[0;32mreturn\u001b[0m \u001b[0mself\u001b[0m\u001b[0;34m\u001b[0m\u001b[0m\n\u001b[1;32m    954\u001b[0m \u001b[0;34m\u001b[0m\u001b[0m\n",
      "\u001b[0;32m~/blogpost_venv/lib/python3.5/site-packages/sklearn/linear_model/_ridge.py\u001b[0m in \u001b[0;36mfit\u001b[0;34m(self, X, y, sample_weight)\u001b[0m\n\u001b[1;32m    597\u001b[0m                 \u001b[0mmax_iter\u001b[0m\u001b[0;34m=\u001b[0m\u001b[0mself\u001b[0m\u001b[0;34m.\u001b[0m\u001b[0mmax_iter\u001b[0m\u001b[0;34m,\u001b[0m \u001b[0mtol\u001b[0m\u001b[0;34m=\u001b[0m\u001b[0mself\u001b[0m\u001b[0;34m.\u001b[0m\u001b[0mtol\u001b[0m\u001b[0;34m,\u001b[0m \u001b[0msolver\u001b[0m\u001b[0;34m=\u001b[0m\u001b[0msolver\u001b[0m\u001b[0;34m,\u001b[0m\u001b[0;34m\u001b[0m\u001b[0m\n\u001b[1;32m    598\u001b[0m                 \u001b[0mrandom_state\u001b[0m\u001b[0;34m=\u001b[0m\u001b[0mself\u001b[0m\u001b[0;34m.\u001b[0m\u001b[0mrandom_state\u001b[0m\u001b[0;34m,\u001b[0m \u001b[0mreturn_n_iter\u001b[0m\u001b[0;34m=\u001b[0m\u001b[0;32mTrue\u001b[0m\u001b[0;34m,\u001b[0m\u001b[0;34m\u001b[0m\u001b[0m\n\u001b[0;32m--> 599\u001b[0;31m                 return_intercept=False, check_input=False, **params)\n\u001b[0m\u001b[1;32m    600\u001b[0m             \u001b[0mself\u001b[0m\u001b[0;34m.\u001b[0m\u001b[0m_set_intercept\u001b[0m\u001b[0;34m(\u001b[0m\u001b[0mX_offset\u001b[0m\u001b[0;34m,\u001b[0m \u001b[0my_offset\u001b[0m\u001b[0;34m,\u001b[0m \u001b[0mX_scale\u001b[0m\u001b[0;34m)\u001b[0m\u001b[0;34m\u001b[0m\u001b[0m\n\u001b[1;32m    601\u001b[0m \u001b[0;34m\u001b[0m\u001b[0m\n",
      "\u001b[0;32m~/blogpost_venv/lib/python3.5/site-packages/sklearn/linear_model/_ridge.py\u001b[0m in \u001b[0;36m_ridge_regression\u001b[0;34m(X, y, alpha, sample_weight, solver, max_iter, tol, verbose, random_state, return_n_iter, return_intercept, X_scale, X_offset, check_input)\u001b[0m\n\u001b[1;32m    461\u001b[0m     \u001b[0;32melif\u001b[0m \u001b[0msolver\u001b[0m \u001b[0;34m==\u001b[0m \u001b[0;34m'cholesky'\u001b[0m\u001b[0;34m:\u001b[0m\u001b[0;34m\u001b[0m\u001b[0m\n\u001b[1;32m    462\u001b[0m         \u001b[0;32mif\u001b[0m \u001b[0mn_features\u001b[0m \u001b[0;34m>\u001b[0m \u001b[0mn_samples\u001b[0m\u001b[0;34m:\u001b[0m\u001b[0;34m\u001b[0m\u001b[0m\n\u001b[0;32m--> 463\u001b[0;31m             \u001b[0mK\u001b[0m \u001b[0;34m=\u001b[0m \u001b[0msafe_sparse_dot\u001b[0m\u001b[0;34m(\u001b[0m\u001b[0mX\u001b[0m\u001b[0;34m,\u001b[0m \u001b[0mX\u001b[0m\u001b[0;34m.\u001b[0m\u001b[0mT\u001b[0m\u001b[0;34m,\u001b[0m \u001b[0mdense_output\u001b[0m\u001b[0;34m=\u001b[0m\u001b[0;32mTrue\u001b[0m\u001b[0;34m)\u001b[0m\u001b[0;34m\u001b[0m\u001b[0m\n\u001b[0m\u001b[1;32m    464\u001b[0m             \u001b[0;32mtry\u001b[0m\u001b[0;34m:\u001b[0m\u001b[0;34m\u001b[0m\u001b[0m\n\u001b[1;32m    465\u001b[0m                 \u001b[0mdual_coef\u001b[0m \u001b[0;34m=\u001b[0m \u001b[0m_solve_cholesky_kernel\u001b[0m\u001b[0;34m(\u001b[0m\u001b[0mK\u001b[0m\u001b[0;34m,\u001b[0m \u001b[0my\u001b[0m\u001b[0;34m,\u001b[0m \u001b[0malpha\u001b[0m\u001b[0;34m)\u001b[0m\u001b[0;34m\u001b[0m\u001b[0m\n",
      "\u001b[0;32m~/blogpost_venv/lib/python3.5/site-packages/sklearn/utils/extmath.py\u001b[0m in \u001b[0;36msafe_sparse_dot\u001b[0;34m(a, b, dense_output)\u001b[0m\n\u001b[1;32m    149\u001b[0m             \u001b[0mret\u001b[0m \u001b[0;34m=\u001b[0m \u001b[0mnp\u001b[0m\u001b[0;34m.\u001b[0m\u001b[0mdot\u001b[0m\u001b[0;34m(\u001b[0m\u001b[0ma\u001b[0m\u001b[0;34m,\u001b[0m \u001b[0mb\u001b[0m\u001b[0;34m)\u001b[0m\u001b[0;34m\u001b[0m\u001b[0m\n\u001b[1;32m    150\u001b[0m     \u001b[0;32melse\u001b[0m\u001b[0;34m:\u001b[0m\u001b[0;34m\u001b[0m\u001b[0m\n\u001b[0;32m--> 151\u001b[0;31m         \u001b[0mret\u001b[0m \u001b[0;34m=\u001b[0m \u001b[0ma\u001b[0m \u001b[0;34m@\u001b[0m \u001b[0mb\u001b[0m\u001b[0;34m\u001b[0m\u001b[0m\n\u001b[0m\u001b[1;32m    152\u001b[0m \u001b[0;34m\u001b[0m\u001b[0m\n\u001b[1;32m    153\u001b[0m     if (sparse.issparse(a) and sparse.issparse(b)\n",
      "\u001b[0;31mKeyboardInterrupt\u001b[0m: "
     ]
    }
   ],
   "source": [
    "alpha_exp_min, alpha_exp_max, alpha_space = 2, 8, 2\n",
    "\n",
    "alpha_mant = np.linspace(1, 9, alpha_space)\n",
    "alphas = np.concatenate([alpha_mant * 10 ** i for i in range(alpha_exp_min, alpha_exp_max + 1)])\n",
    "\n",
    "for alpha in alphas:\n",
    "    clf = RidgeClassifier(alpha=alpha)\n",
    "    since = time()\n",
    "    clf.fit(dec_train_random_features, train_labels)\n",
    "    fit_time = time() - since\n",
    "    \n",
    "    \n",
    "    train_accuracy = clf.score(dec_train_random_features, train_labels) * 100\n",
    "    test_accuracy = clf.score(dec_test_random_features, test_labels) * 100\n",
    "    \n",
    "    print(\"alpha = {0:.2e}\\tTrain acc = {1:2.2f}\\tTest acc = {2:2.2f}\".format(alpha, train_accuracy, test_accuracy))"
   ]
  },
  {
   "cell_type": "code",
   "execution_count": null,
   "metadata": {},
   "outputs": [],
   "source": []
  }
 ],
 "metadata": {
  "kernelspec": {
   "display_name": "Python (blogpost_venv)",
   "language": "python",
   "name": "blogpost_venv"
  },
  "language_info": {
   "codemirror_mode": {
    "name": "ipython",
    "version": 3
   },
   "file_extension": ".py",
   "mimetype": "text/x-python",
   "name": "python",
   "nbconvert_exporter": "python",
   "pygments_lexer": "ipython3",
   "version": "3.5.2"
  }
 },
 "nbformat": 4,
 "nbformat_minor": 2
}
